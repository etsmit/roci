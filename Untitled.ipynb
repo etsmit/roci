{
 "cells": [
  {
   "cell_type": "code",
   "execution_count": 1,
   "id": "5ecc88b1",
   "metadata": {},
   "outputs": [],
   "source": [
    "import numpy as np"
   ]
  },
  {
   "cell_type": "code",
   "execution_count": 32,
   "id": "86bb216f",
   "metadata": {},
   "outputs": [],
   "source": [
    "def averager(data,m):\n",
    "\t\"\"\"\n",
    "\taverages data for IQRM\n",
    "\t\"\"\"\n",
    "\tstep1 = np.reshape(data,(data.shape[0],-1,m)) # polarization 1\n",
    "\tstep12 = np.reshape(data,(data.shape[1],-1,m)) # polarization 2\n",
    "\tstep2 = np.nanmean(step1,axis=2) # polarization 1\n",
    "\tstep22 = np.nanmean(step12,axis=2) # polarization 2\n",
    "\tstep3 = []\n",
    "\tstep3.append(np.ndarray.tolist(step2)) # combine\n",
    "\tstep3.append(np.ndarray.tolist(step22))\n",
    "\treturn np.asarray(step3)\n",
    "                  \n",
    "\n",
    "def stdever(data,m):\n",
    "\t\"\"\"\n",
    "\tstandard deviation of data\n",
    "\t\"\"\"\n",
    "\tstep1 = np.reshape(data,(data.shape[0],-1,m)) # polarization 1\n",
    "\tstep12 = np.reshape(data,(data.shape[1],-1,m)) # polarization 2\n",
    "\tstep2 = np.nanstd(step1,axis=2) # polarization 1\n",
    "\tstep22 = np.nanstd(step12,axis=2) # polarization 2\n",
    "\t# combine\n",
    "\tstep3 = []\n",
    "\tstep3.append(np.ndarray.tolist(step2))\n",
    "\tstep3.append(np.ndarray.tolist(step22))\n",
    "\treturn np.asarray(step3)\n"
   ]
  },
  {
   "cell_type": "code",
   "execution_count": 36,
   "id": "f2837531",
   "metadata": {},
   "outputs": [
    {
     "data": {
      "text/plain": [
       "array([[[1., 2., 1., 2.],\n",
       "        [1., 2., 1., 2.]],\n",
       "\n",
       "       [[1., 2., 1., 2.],\n",
       "        [1., 2., 1., 2.]]])"
      ]
     },
     "execution_count": 36,
     "metadata": {},
     "output_type": "execute_result"
    }
   ],
   "source": [
    "a = np.asarray([[[1,2],[1,2]], [[1,2],[1,2]]])\n",
    "b = averager(a, 1)\n",
    "b"
   ]
  },
  {
   "cell_type": "code",
   "execution_count": 63,
   "id": "a7b7636a",
   "metadata": {},
   "outputs": [],
   "source": [
    "import mitigateRFI_IQRM as mit"
   ]
  },
  {
   "cell_type": "code",
   "execution_count": 2,
   "id": "6fe61656",
   "metadata": {},
   "outputs": [
    {
     "ename": "SyntaxError",
     "evalue": "invalid syntax (802243222.py, line 1)",
     "output_type": "error",
     "traceback": [
      "\u001b[0;36m  Cell \u001b[0;32mIn[2], line 1\u001b[0;36m\u001b[0m\n\u001b[0;31m    .\\mitigateRFI_IQRM.py\u001b[0m\n\u001b[0m    ^\u001b[0m\n\u001b[0;31mSyntaxError\u001b[0m\u001b[0;31m:\u001b[0m invalid syntax\n"
     ]
    }
   ],
   "source": [
    ".\\mitigateRFI_IQRM.py"
   ]
  },
  {
   "cell_type": "code",
   "execution_count": 49,
   "id": "d13a8ac8",
   "metadata": {},
   "outputs": [
    {
     "data": {
      "text/plain": [
       "['DescrStatsW',\n",
       " 'GuppiRaw',\n",
       " '__builtins__',\n",
       " '__cached__',\n",
       " '__doc__',\n",
       " '__file__',\n",
       " '__loader__',\n",
       " '__name__',\n",
       " '__package__',\n",
       " '__spec__',\n",
       " 'adj_chan_good_data',\n",
       " 'argparse',\n",
       " 'iqrm',\n",
       " 'jit',\n",
       " 'main',\n",
       " 'math',\n",
       " 'noise_filter',\n",
       " 'np',\n",
       " 'os',\n",
       " 'plt',\n",
       " 'prange',\n",
       " 'repl_nans',\n",
       " 'repl_zeros',\n",
       " 'rfi',\n",
       " 'scipy',\n",
       " 'sp',\n",
       " 'statistical_noise_fir',\n",
       " 'sys',\n",
       " 'template_averager',\n",
       " 'template_check_nblocks',\n",
       " 'template_check_outfile',\n",
       " 'template_guppi_format',\n",
       " 'template_infile_mod',\n",
       " 'template_parse',\n",
       " 'template_print_flagstats',\n",
       " 'template_print_header',\n",
       " 'template_save_npy',\n",
       " 'time',\n",
       " 'tqdm']"
      ]
     },
     "execution_count": 49,
     "metadata": {},
     "output_type": "execute_result"
    }
   ],
   "source": [
    "dir(mitigateRFI_IQRM)"
   ]
  },
  {
   "cell_type": "code",
   "execution_count": 10,
   "id": "27f59748",
   "metadata": {},
   "outputs": [
    {
     "ename": "LibRawTooBigError",
     "evalue": "b'Image too big for processing'",
     "output_type": "error",
     "traceback": [
      "\u001b[0;31m---------------------------------------------------------------------------\u001b[0m",
      "\u001b[0;31mLibRawTooBigError\u001b[0m                         Traceback (most recent call last)",
      "Cell \u001b[0;32mIn[10], line 5\u001b[0m\n\u001b[1;32m      2\u001b[0m \u001b[38;5;28;01mimport\u001b[39;00m \u001b[38;5;21;01mrawpy\u001b[39;00m\n\u001b[1;32m      4\u001b[0m path \u001b[38;5;241m=\u001b[39m \u001b[38;5;124m'\u001b[39m\u001b[38;5;124m/jetstor/scratch/IQRM_rawdata_results/vegas_60299_76099_B0329+54_0004.0000_IQRM_r5_t3.0_std_b512_mb1_.raw\u001b[39m\u001b[38;5;124m'\u001b[39m\n\u001b[0;32m----> 5\u001b[0m raw \u001b[38;5;241m=\u001b[39m \u001b[43mrawpy\u001b[49m\u001b[38;5;241;43m.\u001b[39;49m\u001b[43mimread\u001b[49m\u001b[43m(\u001b[49m\u001b[43mpath\u001b[49m\u001b[43m)\u001b[49m\n",
      "File \u001b[0;32m~/.conda/envs/kait/lib/python3.9/site-packages/rawpy/__init__.py:20\u001b[0m, in \u001b[0;36mimread\u001b[0;34m(pathOrFile)\u001b[0m\n\u001b[1;32m     18\u001b[0m     d\u001b[38;5;241m.\u001b[39mopen_buffer(pathOrFile)\n\u001b[1;32m     19\u001b[0m \u001b[38;5;28;01melse\u001b[39;00m:\n\u001b[0;32m---> 20\u001b[0m     \u001b[43md\u001b[49m\u001b[38;5;241;43m.\u001b[39;49m\u001b[43mopen_file\u001b[49m\u001b[43m(\u001b[49m\u001b[43mpathOrFile\u001b[49m\u001b[43m)\u001b[49m\n\u001b[1;32m     21\u001b[0m \u001b[38;5;28;01mreturn\u001b[39;00m d\n",
      "File \u001b[0;32mrawpy/_rawpy.pyx:411\u001b[0m, in \u001b[0;36mrawpy._rawpy.RawPy.open_file\u001b[0;34m()\u001b[0m\n",
      "File \u001b[0;32mrawpy/_rawpy.pyx:950\u001b[0m, in \u001b[0;36mrawpy._rawpy.RawPy.handle_error\u001b[0;34m()\u001b[0m\n",
      "\u001b[0;31mLibRawTooBigError\u001b[0m: b'Image too big for processing'"
     ]
    }
   ],
   "source": [
    "import numpy as np\n",
    "import rawpy\n",
    "\n",
    "path = '/jetstor/scratch/IQRM_rawdata_results/vegas_60299_76099_B0329+54_0004.0000_IQRM_r5_t3.0_std_b512_mb1_.raw'\n",
    "raw = rawpy.imread(path)"
   ]
  },
  {
   "cell_type": "code",
   "execution_count": 8,
   "id": "96871546",
   "metadata": {},
   "outputs": [
    {
     "ename": "ValueError",
     "evalue": "Cannot load file containing pickled data when allow_pickle=False",
     "output_type": "error",
     "traceback": [
      "\u001b[0;31m---------------------------------------------------------------------------\u001b[0m",
      "\u001b[0;31mValueError\u001b[0m                                Traceback (most recent call last)",
      "Cell \u001b[0;32mIn[8], line 1\u001b[0m\n\u001b[0;32m----> 1\u001b[0m data \u001b[38;5;241m=\u001b[39m \u001b[43mnp\u001b[49m\u001b[38;5;241;43m.\u001b[39;49m\u001b[43mload\u001b[49m\u001b[43m(\u001b[49m\u001b[38;5;124;43m'\u001b[39;49m\u001b[38;5;124;43m/jetstor/scratch/IQRM_rawdata_results/vegas_60299_76099_B0329+54_0004.0000_IQRM_r5_t3.0_std_b512_mb1_.raw\u001b[39;49m\u001b[38;5;124;43m'\u001b[39;49m\u001b[43m)\u001b[49m\n",
      "File \u001b[0;32m~/.conda/envs/kait/lib/python3.9/site-packages/numpy/lib/npyio.py:462\u001b[0m, in \u001b[0;36mload\u001b[0;34m(file, mmap_mode, allow_pickle, fix_imports, encoding, max_header_size)\u001b[0m\n\u001b[1;32m    459\u001b[0m \u001b[38;5;28;01melse\u001b[39;00m:\n\u001b[1;32m    460\u001b[0m     \u001b[38;5;66;03m# Try a pickle\u001b[39;00m\n\u001b[1;32m    461\u001b[0m     \u001b[38;5;28;01mif\u001b[39;00m \u001b[38;5;129;01mnot\u001b[39;00m allow_pickle:\n\u001b[0;32m--> 462\u001b[0m         \u001b[38;5;28;01mraise\u001b[39;00m \u001b[38;5;167;01mValueError\u001b[39;00m(\u001b[38;5;124m\"\u001b[39m\u001b[38;5;124mCannot load file containing pickled data \u001b[39m\u001b[38;5;124m\"\u001b[39m\n\u001b[1;32m    463\u001b[0m                          \u001b[38;5;124m\"\u001b[39m\u001b[38;5;124mwhen allow_pickle=False\u001b[39m\u001b[38;5;124m\"\u001b[39m)\n\u001b[1;32m    464\u001b[0m     \u001b[38;5;28;01mtry\u001b[39;00m:\n\u001b[1;32m    465\u001b[0m         \u001b[38;5;28;01mreturn\u001b[39;00m pickle\u001b[38;5;241m.\u001b[39mload(fid, \u001b[38;5;241m*\u001b[39m\u001b[38;5;241m*\u001b[39mpickle_kwargs)\n",
      "\u001b[0;31mValueError\u001b[0m: Cannot load file containing pickled data when allow_pickle=False"
     ]
    }
   ],
   "source": [
    "data = np.load('/jetstor/scratch/IQRM_rawdata_results/vegas_60299_76099_B0329+54_0004.0000_IQRM_r5_t3.0_std_b512_mb1_.raw')"
   ]
  },
  {
   "cell_type": "code",
   "execution_count": null,
   "id": "263ed96d",
   "metadata": {},
   "outputs": [],
   "source": []
  }
 ],
 "metadata": {
  "kernelspec": {
   "display_name": "Python (kait)",
   "language": "python",
   "name": "kait"
  },
  "language_info": {
   "codemirror_mode": {
    "name": "ipython",
    "version": 3
   },
   "file_extension": ".py",
   "mimetype": "text/x-python",
   "name": "python",
   "nbconvert_exporter": "python",
   "pygments_lexer": "ipython3",
   "version": "3.9.19"
  }
 },
 "nbformat": 4,
 "nbformat_minor": 5
}
